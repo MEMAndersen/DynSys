{
 "cells": [
  {
   "cell_type": "code",
   "execution_count": 1,
   "metadata": {},
   "outputs": [],
   "source": [
    "# -*- coding: utf-8 -*-\n",
    "\"\"\"\n",
    "Script to illustrate crowd loading pedestrian dynamics analyses \n",
    "to UK NA to BS EN 1991-2\n",
    "\"\"\"\n",
    "\n",
    "# Python dist imports\n",
    "import numpy\n",
    "\n",
    "# DynSys package imports\n",
    "import modalsys\n",
    "from dyn_analysis import UKNA_BSEN1991_2_crowd"
   ]
  },
  {
   "cell_type": "code",
   "execution_count": 2,
   "metadata": {},
   "outputs": [
    {
     "name": "stdout",
     "output_type": "stream",
     "text": [
      "Modal dynamic system `Bridge example` initialised.\n"
     ]
    }
   ],
   "source": [
    "bridgeClass='b'\n",
    "\n",
    "# Define modal system\n",
    "my_sys = modalsys.ModalSys(name=\"Bridge example\",fname_modeshapes=None)\n",
    "\n",
    "# Add output matrix\n",
    "my_sys.AddOutputMtrx()"
   ]
  },
  {
   "cell_type": "code",
   "execution_count": 3,
   "metadata": {},
   "outputs": [],
   "source": [
    "# Define files to define modeshapes along edges of deck strips\n",
    "mshape_fnames = [[\"modeshapes_edge_MS_NSS.csv\",\"modeshapes_CL_MS_NSS.csv\"],\n",
    "                 [\"modeshapes_CL_MS_SSS.csv\",\"modeshapes_edge_MS_SSS.csv\"],\n",
    "                 [\"modeshapes_CL_NSS_SSS.csv\",\"modeshapes_edge_NSS_SSS.csv\"]]\n",
    "mshape_fnames = numpy.array(mshape_fnames)"
   ]
  },
  {
   "cell_type": "code",
   "execution_count": 4,
   "metadata": {},
   "outputs": [],
   "source": [
    "# Define functions to define how wdith varies with chainage in each region\n",
    "\n",
    "def width_region1(x):\n",
    "    return 1.5+0.01*x\n",
    "\n",
    "width_funcs = [1.5,width_region1,2.0]"
   ]
  },
  {
   "cell_type": "code",
   "execution_count": 5,
   "metadata": {},
   "outputs": [
    {
     "name": "stdout",
     "output_type": "stream",
     "text": [
      "Bridge class: 'B'\n",
      "Crowd density (persons/m2): 0.4\n",
      "Deck region 0\n",
      "Deck region 1\n",
      "Deck region 2\n",
      "Summary of regions as defined by edge lines:\n",
      "nRegions: 3\n",
      "Length of edge lines for regions:\n",
      "Region 0\n",
      "[37.07, 39.50]\n",
      "Region 1\n",
      "[39.50, 37.07]\n",
      "Region 2\n",
      "[35.00, 32.57]\n",
      "Width of regions:\n",
      "Region 0\n",
      "1.5\n",
      "Region 1\n",
      "<function width_region1 at 0x0C0A14F8>\n",
      "Region 2\n",
      "2.0\n"
     ]
    }
   ],
   "source": [
    "# Run crowd loading\n",
    "crowd_analysis = UKNA_BSEN1991_2_crowd(modalsys_obj=my_sys,\n",
    "                                       mode_index=0,\n",
    "                                       bridgeClass=bridgeClass,\n",
    "                                       width_func_list=width_funcs,\n",
    "                                       modeshapes_fname_arr=mshape_fnames)"
   ]
  },
  {
   "cell_type": "code",
   "execution_count": null,
   "metadata": {},
   "outputs": [],
   "source": []
  }
 ],
 "metadata": {
  "kernelspec": {
   "display_name": "Python 3",
   "language": "python",
   "name": "python3"
  },
  "language_info": {
   "codemirror_mode": {
    "name": "ipython",
    "version": 3
   },
   "file_extension": ".py",
   "mimetype": "text/x-python",
   "name": "python",
   "nbconvert_exporter": "python",
   "pygments_lexer": "ipython3",
   "version": "3.6.5"
  }
 },
 "nbformat": 4,
 "nbformat_minor": 2
}
